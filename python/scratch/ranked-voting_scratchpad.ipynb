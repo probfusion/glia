{
 "cells": [
  {
   "cell_type": "code",
   "execution_count": 45,
   "metadata": {},
   "outputs": [
    {
     "name": "stdout",
     "output_type": "stream",
     "text": [
      "False\n",
      "No dupes.\n"
     ]
    }
   ],
   "source": [
    "from collections import namedtuple\n",
    "from itertools import chain\n",
    "from typing import NewType, Any, Optional, TypeAlias, reveal_type\n",
    "from collections.abc import Sequence, Iterable, Collection\n",
    "from beartype import beartype\n",
    "from typing_utils import issubtype\n",
    "\n",
    "# Use this structure instead of dictionary to prevent duplicates.\n",
    "KeyValue: TypeAlias = tuple[str, Any]\n",
    "DedupDict: TypeAlias = Iterable[KeyValue]\n",
    "abbrev_map: DedupDict = [\n",
    "    (\"a1\", \"test1\"),\n",
    "    (\"a2\", \"test2\"),\n",
    "    (\"a3\", \"test3\"),\n",
    "    (\"a4\", \"test4\"),\n",
    "    (\"a5\", \"test5\"),\n",
    "    (\"a6\", \"test6\"),\n",
    "    (\"a7\", \"test7\"),\n",
    "    (\"a8\", \"test8\"),\n",
    "    (\"a9\", \"test9\"),\n",
    "    # (\"a2\", \"test1\")\n",
    "]\n",
    "reveal_type(abbrev_map)\n",
    "\n",
    "\n",
    "@beartype\n",
    "def get_dupes(dedup: DedupDict) -> tuple[set, set]:\n",
    "    def get_list_dupes(l: list) -> set:\n",
    "        seen = set()\n",
    "        return set([x for x in l if x in seen or seen.add(x)])    \n",
    "    dupe_keys = get_list_dupes([k for k,_ in dedup])\n",
    "    dupe_vals = get_list_dupes([v for _,v in dedup])\n",
    "    return dupe_keys, dupe_vals\n",
    "\n",
    "@beartype\n",
    "def check_dupes(dedup: DedupDict) -> None:\n",
    "    dupe_keys, dupe_vals = get_dupes(dedup)\n",
    "    match [len(dupe_keys), len(dupe_vals)]:\n",
    "        case [0, 0]:\n",
    "            print(\"No dupes.\")\n",
    "        case [_, 0]: \n",
    "            raise Exception(f\"Duplicate keys: {dupe_keys}\")\n",
    "        case [0, _]:\n",
    "            raise Exception(f\"Duplicate values: {dupe_vals}\")\n",
    "        case _:\n",
    "            raise Exception(f\"Dupe keys and values. Keys: {dupe_keys}. Vals: {dupe_vals}\")\n",
    "\n",
    "check_dupes(abbrev_map)\n",
    "\n",
    "ballots = {\n",
    "    \"p1\" ['ds', 'slo'],\n",
    "    \"p2\": ['ds', 'bfi', 'tp'],\n",
    "    \"p3\": ['slo', 'gl', 'fay', 'ds', 'nj'],\n",
    "    \"p4\": ['dt', 'ds', 'slo', 'neu', 'fay'],\n",
    "    \"p5\": ['bfi', 'th', 'ev', 'll'],\n",
    "    \"p6\": ['th'],\n",
    "    \"p7\": ['at', 'ev'],\n",
    "    \"p8\": ['th', 'nj', 'tp'],\n",
    "    \"p9\": ['th', 'at', 'slo'],\n",
    "}\n",
    "def validate(ballots, domains):\n",
    "    voted = set(chain.from_iterable(ballots.values()))\n",
    "    entered = set(domains.keys())"
   ]
  },
  {
   "cell_type": "code",
   "execution_count": null,
   "metadata": {},
   "outputs": [],
   "source": []
  }
 ],
 "metadata": {
  "kernelspec": {
   "display_name": "py11",
   "language": "python",
   "name": "python3"
  },
  "language_info": {
   "codemirror_mode": {
    "name": "ipython",
    "version": 3
   },
   "file_extension": ".py",
   "mimetype": "text/x-python",
   "name": "python",
   "nbconvert_exporter": "python",
   "pygments_lexer": "ipython3",
   "version": "3.11.3"
  },
  "orig_nbformat": 4
 },
 "nbformat": 4,
 "nbformat_minor": 2
}
