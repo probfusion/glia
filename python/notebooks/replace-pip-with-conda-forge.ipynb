{
 "cells": [
  {
   "cell_type": "markdown",
   "metadata": {},
   "source": [
    "## Setup"
   ]
  },
  {
   "cell_type": "code",
   "execution_count": 40,
   "metadata": {},
   "outputs": [],
   "source": [
    "import subprocess\n",
    "from subprocess import CompletedProcess, STDOUT, PIPE\n",
    "import json\n",
    "\n",
    "def print_out(output: CompletedProcess, skip=False, indent=False, outOnly=False, doPrint=True) -> str:\n",
    "    if skip:\n",
    "        return output.stdout.decode()\n",
    "    \n",
    "    outEnd = (\n",
    "        '\\t' + output.stdout.decode().replace('\\n', '\\n\\t')\n",
    "        if indent\n",
    "        else output.stdout.decode()\n",
    "    )\n",
    "    if outOnly:\n",
    "        out = outEnd\n",
    "    else:\n",
    "        out = 'Command:\\n' + '\\t' if indent else ''\n",
    "        out += '\\n'.join(\n",
    "            [\n",
    "                f\"{' '.join(output.args)}\",\n",
    "                'Output:' if output.returncode == 0 else 'ERROR:',\n",
    "                outEnd,\n",
    "            ]\n",
    "        )\n",
    "    if doPrint:\n",
    "        print(out)\n",
    "    return out\n",
    "\n",
    "def run(cmd: str, **printArgs) -> tuple[CompletedProcess, str]:\n",
    "    out = subprocess.run(['pwsh', '-Command', cmd], stdout=PIPE, stderr=STDOUT)\n",
    "    outStr = print_out(out, **printArgs)\n",
    "    return out, outStr"
   ]
  },
  {
   "cell_type": "code",
   "execution_count": 41,
   "metadata": {},
   "outputs": [
    {
     "name": "stdout",
     "output_type": "stream",
     "text": [
      "\u001b[31;1mWrite-Hst: \u001b[31;1mThe term 'Write-Hst' is not recognized as a name of a cmdlet, function, script file, or executable program.\u001b[0m\n",
      "\u001b[31;1m\u001b[31;1mCheck the spelling of the name, or if a path was included, verify that the path is correct and try again.\u001b[0m\n",
      "\n",
      "Command:\n",
      "\tpwsh -Command Write-Host 'Hello World!'\n",
      "Output:\n",
      "\tHello World!\n",
      "\t\n"
     ]
    },
    {
     "data": {
      "text/plain": [
       "(CompletedProcess(args=['pwsh', '-Command', \"Write-Host 'Hello World!'\"], returncode=0, stdout=b'Hello World!\\r\\n'),\n",
       " \"Command:\\n\\tpwsh -Command Write-Host 'Hello World!'\\nOutput:\\n\\tHello World!\\r\\n\\t\")"
      ]
     },
     "execution_count": 41,
     "metadata": {},
     "output_type": "execute_result"
    }
   ],
   "source": [
    "run(\"Write-Hst 'Hello World!'\", outOnly=True)\n",
    "run(\"Write-Host 'Hello World!'\", indent=True)"
   ]
  },
  {
   "cell_type": "code",
   "execution_count": 42,
   "metadata": {},
   "outputs": [],
   "source": [
    "run_cfg = {'doPrint': False, 'outOnly': True}\n",
    "env_name = 'rush10'"
   ]
  },
  {
   "cell_type": "markdown",
   "metadata": {},
   "source": [
    "## Run"
   ]
  },
  {
   "cell_type": "code",
   "execution_count": 43,
   "metadata": {},
   "outputs": [],
   "source": [
    "run(\"conda activate rush10\", skip=True)\n",
    "_, out = run(\"mamba info --json\", skip=True)\n",
    "out_j = json.loads(out)\n",
    "assert env_name == out_j['active_prefix_name']"
   ]
  },
  {
   "cell_type": "code",
   "execution_count": 44,
   "metadata": {},
   "outputs": [],
   "source": [
    "_, out = run(\"mamba env export --json --no-builds\", skip=True)\n",
    "env_j = json.loads(out)"
   ]
  },
  {
   "cell_type": "code",
   "execution_count": 32,
   "metadata": {},
   "outputs": [
    {
     "data": {
      "text/plain": [
       "'rush10'"
      ]
     },
     "execution_count": 32,
     "metadata": {},
     "output_type": "execute_result"
    }
   ],
   "source": []
  },
  {
   "cell_type": "code",
   "execution_count": null,
   "metadata": {},
   "outputs": [],
   "source": []
  }
 ],
 "metadata": {
  "kernelspec": {
   "display_name": "rush10",
   "language": "python",
   "name": "python3"
  },
  "language_info": {
   "codemirror_mode": {
    "name": "ipython",
    "version": 3
   },
   "file_extension": ".py",
   "mimetype": "text/x-python",
   "name": "python",
   "nbconvert_exporter": "python",
   "pygments_lexer": "ipython3",
   "version": "3.10.13"
  }
 },
 "nbformat": 4,
 "nbformat_minor": 2
}
