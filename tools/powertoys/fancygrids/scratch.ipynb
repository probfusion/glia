{
 "cells": [
  {
   "cell_type": "code",
   "execution_count": 1,
   "metadata": {},
   "outputs": [],
   "source": [
    "import json\n",
    "import numpy as np\n",
    "\n",
    "from functools import reduce\n",
    "from uuid import uuid4\n",
    "\n",
    "# typing imports\n",
    "from typing import Literal, Annotated\n",
    "from nptyping import NDArray, Shape, Int\n",
    "from beartype import beartype\n",
    "from beartype.vale import Is\n",
    "\n",
    "\n",
    "T_GRID = NDArray[Shape[\"*, *\"], Int]\n",
    "\n",
    "\n",
    "@beartype\n",
    "def reiterate_grid(grid: T_GRID) -> T_GRID:\n",
    "    flat_grid = grid.flatten()\n",
    "    unique_ids, unique_inds = np.unique(flat_grid, return_index=True)\n",
    "\n",
    "    # sort the unique ids by their unique indices\n",
    "    dtype = [(\"id\", int), (\"ind\", int)]  # create a dtype for sorting purposes\n",
    "    unique_grid = np.array(list(zip(unique_ids, unique_inds)), dtype=dtype)\n",
    "    sorted_grid = np.sort(unique_grid, order=\"ind\")\n",
    "\n",
    "    new_ids = np.arange(sorted_grid.size)  # have new ids be monotonically increasing\n",
    "    id_map = {old: new for (old, _), new in zip(sorted_grid, new_ids)}\n",
    "    new_grid = np.array([id_map[old] for old in flat_grid])\n",
    "\n",
    "    return new_grid.reshape(grid.shape)\n",
    "\n",
    "T_POS_INT = Annotated[int, Is[lambda x: x > 0]]\n",
    "T_STRATEGY = Literal[\"outer\", \"inner\", \"front\", \"back\"]\n",
    "T_PERCS = NDArray[Shape[\"*\"], Int]\n",
    "\n",
    "\n",
    "@beartype\n",
    "def get_int_percs(n_parts: T_POS_INT, strategy: T_STRATEGY = \"outer\") -> T_PERCS:\n",
    "    TEN_K = 10_000\n",
    "    perc = TEN_K // n_parts\n",
    "    n_perc_pp = TEN_K % perc\n",
    "    percs_base = np.full(n_parts, perc)\n",
    "    percs_incr = np.ones(n_perc_pp)\n",
    "    percs_same = np.zeros(n_parts - n_perc_pp)\n",
    "    match strategy:\n",
    "        case \"outer\":\n",
    "            incr_parts = np.array_split(percs_incr, 2)\n",
    "            percs_to_add = np.concatenate((incr_parts[0], percs_same, incr_parts[1]))\n",
    "        case \"inner\":\n",
    "            same_parts = np.array_split(percs_same, 2)\n",
    "            percs_to_add = np.concatenate((same_parts[0], percs_incr, same_parts[1]))\n",
    "        case \"front\":\n",
    "            percs_to_add = np.concatenate([percs_incr, percs_same])\n",
    "        case \"back\":\n",
    "            percs_to_add = np.concatenate([percs_same, percs_incr])\n",
    "        case _:\n",
    "            raise ValueError(f\"Unknown strategy: {strategy}\")\n",
    "    percs = (percs_base + percs_to_add).astype(int)\n",
    "    assert np.sum(percs) == TEN_K\n",
    "    return percs\n",
    "\n",
    "\n",
    "T_GRID_SPEC = tuple[T_PERCS, T_PERCS, T_GRID]\n",
    "\n",
    "\n",
    "@beartype\n",
    "def make_grid(rows: T_POS_INT, cols: T_POS_INT, strategy: T_STRATEGY = \"outer\") -> T_GRID_SPEC:\n",
    "    rows_perc = get_int_percs(rows, strategy=strategy)\n",
    "    cols_perc = get_int_percs(cols, strategy=strategy)\n",
    "    grid = np.arange(rows * cols).reshape(rows, cols)\n",
    "    return (rows_perc, cols_perc, grid)\n",
    "\n",
    "\n",
    "# recursive. no nulls or floats in this json spec\n",
    "T_GRID_JSON = dict[str, \"T_GRID_JSON\"] | list[\"T_GRID_JSON\"] | str | int | bool\n",
    "\n",
    "\n",
    "@beartype\n",
    "def grid_to_json_dict(grid_spec: T_GRID_SPEC, name: str) -> T_GRID_JSON:\n",
    "    rows_perc, cols_perc, grid = grid_spec\n",
    "    return {\n",
    "        \"uuid\": str(uuid4()).upper(),\n",
    "        \"name\": name,\n",
    "        \"type\": \"grid\",\n",
    "        \"info\": {\n",
    "            \"rows\": rows_perc.size,\n",
    "            \"columns\": cols_perc.size,\n",
    "            \"rows-percentage\": rows_perc.tolist(),\n",
    "            \"columns-percentage\": cols_perc.tolist(),\n",
    "            \"cell-child-map\": grid.tolist(),\n",
    "            \"show-spacing\": False,\n",
    "            \"spacing\": 0,\n",
    "            \"sensitivity-radius\": 20,\n",
    "        },\n",
    "    }\n",
    "\n",
    "@beartype\n",
    "def make_grid_json(rows: T_POS_INT, cols: T_POS_INT, strategy: T_STRATEGY = \"outer\", name: str = \"\") -> str:\n",
    "    grid_spec = make_grid(rows, cols, strategy=strategy)\n",
    "    return json.dumps(grid_to_json_dict(grid_spec, name), ensure_ascii=False, indent=2)\n",
    "\n"
   ]
  },
  {
   "cell_type": "code",
   "execution_count": 2,
   "metadata": {},
   "outputs": [
    {
     "name": "stdout",
     "output_type": "stream",
     "text": [
      "{\n",
      "  \"uuid\": \"875CC104-2736-41B4-AD0F-15C2A5831E0D\",\n",
      "  \"name\": \"test\",\n",
      "  \"type\": \"grid\",\n",
      "  \"info\": {\n",
      "    \"rows\": 2,\n",
      "    \"columns\": 3,\n",
      "    \"rows-percentage\": [\n",
      "      5000,\n",
      "      5000\n",
      "    ],\n",
      "    \"columns-percentage\": [\n",
      "      3334,\n",
      "      3333,\n",
      "      3333\n",
      "    ],\n",
      "    \"cell-child-map\": [\n",
      "      [\n",
      "        0,\n",
      "        1,\n",
      "        2\n",
      "      ],\n",
      "      [\n",
      "        3,\n",
      "        4,\n",
      "        5\n",
      "      ]\n",
      "    ],\n",
      "    \"show-spacing\": false,\n",
      "    \"spacing\": 0,\n",
      "    \"sensitivity-radius\": 20\n",
      "  }\n",
      "}\n"
     ]
    }
   ],
   "source": [
    "print(make_grid_json(2,3,name=\"test\"))"
   ]
  },
  {
   "cell_type": "code",
   "execution_count": 4,
   "metadata": {},
   "outputs": [],
   "source": [
    "import pyperclip\n",
    "\n",
    "big_grid = make_grid_json(16,30,name=\"PetaGrid\")\n",
    "pyperclip.copy(big_grid)\n"
   ]
  },
  {
   "cell_type": "code",
   "execution_count": 13,
   "metadata": {},
   "outputs": [
    {
     "ename": "BeartypeCallHintParamViolation",
     "evalue": "Function __main__.get_int_percs() parameter n_parts=-1 violates type hint typing.Annotated[int, Is[lambda x: x > 0]], as int -1 violates validator Is[lambda x: x > 0]:\n    False == Is[lambda x: x > 0].",
     "output_type": "error",
     "traceback": [
      "\u001b[1;31m---------------------------------------------------------------------------\u001b[0m",
      "\u001b[1;31mBeartypeCallHintParamViolation\u001b[0m            Traceback (most recent call last)",
      "Cell \u001b[1;32mIn[13], line 1\u001b[0m\n\u001b[1;32m----> 1\u001b[0m get_int_percs(\u001b[39m-\u001b[39;49m\u001b[39m1\u001b[39;49m)\n",
      "File \u001b[1;32m<@beartype(__main__.get_int_percs) at 0x1da869aae80>:33\u001b[0m, in \u001b[0;36mget_int_percs\u001b[1;34m(__beartype_func, __beartype_conf, __beartype_get_violation, __beartype_object_2038072780864, __beartype_object_2037992835440, __beartype_object_2040106488880, __beartype_object_2038054322864, __beartype_object_2038000809904, __beartype_object_2038037170032, *args, **kwargs)\u001b[0m\n",
      "\u001b[1;31mBeartypeCallHintParamViolation\u001b[0m: Function __main__.get_int_percs() parameter n_parts=-1 violates type hint typing.Annotated[int, Is[lambda x: x > 0]], as int -1 violates validator Is[lambda x: x > 0]:\n    False == Is[lambda x: x > 0]."
     ]
    }
   ],
   "source": [
    "grid_spec = make_grid_json()"
   ]
  },
  {
   "cell_type": "code",
   "execution_count": 28,
   "metadata": {},
   "outputs": [
    {
     "data": {
      "text/plain": [
       "'1F465CA4-3CDC-4015-8B62-F00173BA2193'"
      ]
     },
     "execution_count": 28,
     "metadata": {},
     "output_type": "execute_result"
    }
   ],
   "source": [
    "    with open(\"custom-layouts_reindexed.json\", \"w\", encoding=\"utf-8\") as output:\n",
    "        json.dump(data, output, ensure_ascii=False, indent=2)"
   ]
  },
  {
   "cell_type": "code",
   "execution_count": 3,
   "metadata": {},
   "outputs": [
    {
     "data": {
      "text/plain": [
       "array([[ 0,  1,  2,  3,  4,  5],\n",
       "       [ 6,  7,  8,  9, 10, 11],\n",
       "       [12, 13, 14, 15, 16, 17],\n",
       "       [18, 19, 20, 21, 22, 23],\n",
       "       [24, 25, 26, 27, 28, 29],\n",
       "       [30, 31, 32, 33, 34, 35]])"
      ]
     },
     "execution_count": 3,
     "metadata": {},
     "output_type": "execute_result"
    }
   ],
   "source": [
    "grid = np.array(\n",
    "    [\n",
    "        [0, 1, 2, 3, 4, 5],\n",
    "        [6, 7, 8, 9, 10, 11],\n",
    "        [12, 13, 14, 15, 16, 17],\n",
    "        [18, 19, 20, 21, 22, 23],\n",
    "        [24, 25, 26, 27, 28, 29],\n",
    "        [30, 31, 32, 33, 34, 35],\n",
    "    ]\n",
    ")\n",
    "\n",
    "new_grid = reiterate_grid(grid)\n",
    "new_grid"
   ]
  },
  {
   "cell_type": "code",
   "execution_count": 4,
   "metadata": {},
   "outputs": [],
   "source": []
  },
  {
   "cell_type": "code",
   "execution_count": 23,
   "metadata": {},
   "outputs": [
    {
     "data": {
      "text/plain": [
       "[[0, 1, 2, 3, 4],\n",
       " [5, 6, 7, 8, 9],\n",
       " [10, 11, 12, 13, 14],\n",
       " [15, 16, 17, 18, 19],\n",
       " [20, 21, 22, 23, 24],\n",
       " [25, 26, 27, 28, 29],\n",
       " [30, 31, 32, 33, 34],\n",
       " [35, 36, 37, 38, 39],\n",
       " [40, 41, 42, 43, 44],\n",
       " [45, 46, 47, 48, 49],\n",
       " [50, 51, 52, 53, 54],\n",
       " [55, 56, 57, 58, 59],\n",
       " [60, 61, 62, 63, 64],\n",
       " [65, 66, 67, 68, 69],\n",
       " [70, 71, 72, 73, 74],\n",
       " [75, 76, 77, 78, 79],\n",
       " [80, 81, 82, 83, 84]]"
      ]
     },
     "execution_count": 23,
     "metadata": {},
     "output_type": "execute_result"
    }
   ],
   "source": [
    "make_grid(17,5)[2].tolist()"
   ]
  },
  {
   "cell_type": "code",
   "execution_count": 25,
   "metadata": {},
   "outputs": [
    {
     "data": {
      "text/plain": [
       "array([588., 588., 588., 588., 588., 588., 588., 588., 588., 588., 588.,\n",
       "       588., 588., 589., 589., 589., 589.])"
      ]
     },
     "execution_count": 25,
     "metadata": {},
     "output_type": "execute_result"
    }
   ],
   "source": [
    "# unnecessary milp for fun\n",
    "from scipy.optimize import LinearConstraint, Bounds, milp\n",
    "\n",
    "n_parts = 17\n",
    "perc = 10_000 / n_parts\n",
    "\n",
    "bounds = Bounds(lb=np.floor(perc), ub=np.ceil(perc))\n",
    "c = np.ones(n_parts)\n",
    "\n",
    "b_u = np.array([10000])  # A = c, b_l = b_u\n",
    "constraints = LinearConstraint(c, b_u, b_u)\n",
    "\n",
    "integrality = c\n",
    "\n",
    "res = milp(c=c, constraints=constraints, bounds=bounds, integrality=integrality)\n",
    "res.x"
   ]
  }
 ],
 "metadata": {
  "kernelspec": {
   "display_name": "Python 3",
   "language": "python",
   "name": "python3"
  },
  "language_info": {
   "codemirror_mode": {
    "name": "ipython",
    "version": 3
   },
   "file_extension": ".py",
   "mimetype": "text/x-python",
   "name": "python",
   "nbconvert_exporter": "python",
   "pygments_lexer": "ipython3",
   "version": "3.11.3"
  },
  "orig_nbformat": 4
 },
 "nbformat": 4,
 "nbformat_minor": 2
}
